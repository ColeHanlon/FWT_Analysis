{
 "cells": [
  {
   "cell_type": "markdown",
   "metadata": {},
   "source": [
    "#A Statistical Approach to Skiing\n",
    "####Cole Hanlon\n",
    "***\n",
    "<div style=\"text-align:center\">\n",
    "    <img src=\"images/FWT_logoresize.jpg\" />\n",
    "</div>\n",
    "***\n",
    "\n",
    "The Freeride World Tour (FWT) is a series of skiing events that take place in locations around the world during the winter season. Athletes competing are from all around the world. During each event a unique mountain face is selected, which is not part of a defined ski area. Each event includes both men and womens, who ski and snowboard. However, to reduce complexity we will focus on men's skiing. The terrain is often untracked and athletes must study the terrain features to put together a 'line'. A 'line' consists of skiing open faces, jumping off features, dropping cliffs, and skiing technical terrain. "
   ]
  },
  {
   "cell_type": "markdown",
   "metadata": {},
   "source": [
    "First we must import all needed libraries for this analysis."
   ]
  },
  {
   "cell_type": "code",
   "execution_count": 1690,
   "metadata": {},
   "outputs": [],
   "source": [
    "import numpy as np\n",
    "import pandas as pd\n",
    "import matplotlib.pyplot as plt\n",
    "from scipy.interpolate import interp1d\n"
   ]
  },
  {
   "cell_type": "code",
   "execution_count": 1691,
   "metadata": {},
   "outputs": [
    {
     "data": {
      "text/html": [
       "\n",
       "<style>\n",
       ".output_png {\n",
       "    display: table-cell;\n",
       "    text-align: center;\n",
       "    vertical-align: middle;\n",
       "}\n",
       "</style>\n"
      ],
      "text/plain": [
       "<IPython.core.display.HTML object>"
      ]
     },
     "execution_count": 1691,
     "metadata": {},
     "output_type": "execute_result"
    }
   ],
   "source": [
    "from IPython.core.display import HTML as Center\n",
    "\n",
    "Center(\"\"\" <style>\n",
    ".output_png {\n",
    "    display: table-cell;\n",
    "    text-align: center;\n",
    "    vertical-align: middle;\n",
    "}\n",
    "</style> \"\"\")"
   ]
  },
  {
   "cell_type": "markdown",
   "metadata": {},
   "source": [
    "***\n",
    "##A Look at the Data\n",
    "Read in our data and remove extra columns."
   ]
  },
  {
   "cell_type": "code",
   "execution_count": 1692,
   "metadata": {},
   "outputs": [
    {
     "data": {
      "text/html": [
       "<div>\n",
       "<style scoped>\n",
       "    .dataframe tbody tr th:only-of-type {\n",
       "        vertical-align: middle;\n",
       "    }\n",
       "\n",
       "    .dataframe tbody tr th {\n",
       "        vertical-align: top;\n",
       "    }\n",
       "\n",
       "    .dataframe thead th {\n",
       "        text-align: right;\n",
       "    }\n",
       "</style>\n",
       "<table border=\"1\" class=\"dataframe\">\n",
       "  <thead>\n",
       "    <tr style=\"text-align: right;\">\n",
       "      <th></th>\n",
       "      <th>airs</th>\n",
       "      <th>spins</th>\n",
       "      <th>inverts</th>\n",
       "      <th>crashes</th>\n",
       "      <th>largest_spin</th>\n",
       "      <th>largest_invert</th>\n",
       "      <th>largest_magnitude</th>\n",
       "      <th>largest_landed</th>\n",
       "      <th>score</th>\n",
       "    </tr>\n",
       "    <tr>\n",
       "      <th>skier</th>\n",
       "      <th></th>\n",
       "      <th></th>\n",
       "      <th></th>\n",
       "      <th></th>\n",
       "      <th></th>\n",
       "      <th></th>\n",
       "      <th></th>\n",
       "      <th></th>\n",
       "      <th></th>\n",
       "    </tr>\n",
       "  </thead>\n",
       "  <tbody>\n",
       "    <tr>\n",
       "      <th>Mickael Bimboes</th>\n",
       "      <td>5</td>\n",
       "      <td>0</td>\n",
       "      <td>0</td>\n",
       "      <td>0</td>\n",
       "      <td>0</td>\n",
       "      <td>0</td>\n",
       "      <td>3</td>\n",
       "      <td>1</td>\n",
       "      <td>70.00</td>\n",
       "    </tr>\n",
       "    <tr>\n",
       "      <th>Drew Tabke</th>\n",
       "      <td>6</td>\n",
       "      <td>0</td>\n",
       "      <td>0</td>\n",
       "      <td>0</td>\n",
       "      <td>0</td>\n",
       "      <td>0</td>\n",
       "      <td>4</td>\n",
       "      <td>1</td>\n",
       "      <td>75.00</td>\n",
       "    </tr>\n",
       "    <tr>\n",
       "      <th>Andrew Pollard</th>\n",
       "      <td>5</td>\n",
       "      <td>0</td>\n",
       "      <td>0</td>\n",
       "      <td>1</td>\n",
       "      <td>0</td>\n",
       "      <td>0</td>\n",
       "      <td>2</td>\n",
       "      <td>0</td>\n",
       "      <td>42.00</td>\n",
       "    </tr>\n",
       "    <tr>\n",
       "      <th>Carl Eriksson</th>\n",
       "      <td>5</td>\n",
       "      <td>0</td>\n",
       "      <td>1</td>\n",
       "      <td>0</td>\n",
       "      <td>0</td>\n",
       "      <td>1</td>\n",
       "      <td>2</td>\n",
       "      <td>1</td>\n",
       "      <td>61.67</td>\n",
       "    </tr>\n",
       "    <tr>\n",
       "      <th>Yu Sasaki</th>\n",
       "      <td>4</td>\n",
       "      <td>1</td>\n",
       "      <td>0</td>\n",
       "      <td>0</td>\n",
       "      <td>1</td>\n",
       "      <td>0</td>\n",
       "      <td>4</td>\n",
       "      <td>1</td>\n",
       "      <td>78.33</td>\n",
       "    </tr>\n",
       "    <tr>\n",
       "      <th>Liam Peiffer</th>\n",
       "      <td>2</td>\n",
       "      <td>0</td>\n",
       "      <td>0</td>\n",
       "      <td>0</td>\n",
       "      <td>0</td>\n",
       "      <td>0</td>\n",
       "      <td>4</td>\n",
       "      <td>1</td>\n",
       "      <td>65.33</td>\n",
       "    </tr>\n",
       "    <tr>\n",
       "      <th>Yann Baudron</th>\n",
       "      <td>5</td>\n",
       "      <td>1</td>\n",
       "      <td>0</td>\n",
       "      <td>1</td>\n",
       "      <td>0</td>\n",
       "      <td>0</td>\n",
       "      <td>3</td>\n",
       "      <td>1</td>\n",
       "      <td>28.67</td>\n",
       "    </tr>\n",
       "    <tr>\n",
       "      <th>Reine Barkered</th>\n",
       "      <td>5</td>\n",
       "      <td>0</td>\n",
       "      <td>1</td>\n",
       "      <td>0</td>\n",
       "      <td>0</td>\n",
       "      <td>1</td>\n",
       "      <td>4</td>\n",
       "      <td>1</td>\n",
       "      <td>76.67</td>\n",
       "    </tr>\n",
       "    <tr>\n",
       "      <th>Markus Eder</th>\n",
       "      <td>7</td>\n",
       "      <td>2</td>\n",
       "      <td>1</td>\n",
       "      <td>0</td>\n",
       "      <td>1</td>\n",
       "      <td>1</td>\n",
       "      <td>4</td>\n",
       "      <td>1</td>\n",
       "      <td>86.67</td>\n",
       "    </tr>\n",
       "    <tr>\n",
       "      <th>Fabio Studer</th>\n",
       "      <td>4</td>\n",
       "      <td>1</td>\n",
       "      <td>1</td>\n",
       "      <td>2</td>\n",
       "      <td>1</td>\n",
       "      <td>1</td>\n",
       "      <td>3</td>\n",
       "      <td>0</td>\n",
       "      <td>5.00</td>\n",
       "    </tr>\n",
       "    <tr>\n",
       "      <th>Tanner Hall</th>\n",
       "      <td>6</td>\n",
       "      <td>2</td>\n",
       "      <td>1</td>\n",
       "      <td>0</td>\n",
       "      <td>1</td>\n",
       "      <td>0</td>\n",
       "      <td>4</td>\n",
       "      <td>1</td>\n",
       "      <td>81.00</td>\n",
       "    </tr>\n",
       "    <tr>\n",
       "      <th>Taisuke Kusunoki</th>\n",
       "      <td>3</td>\n",
       "      <td>0</td>\n",
       "      <td>0</td>\n",
       "      <td>1</td>\n",
       "      <td>0</td>\n",
       "      <td>0</td>\n",
       "      <td>2</td>\n",
       "      <td>0</td>\n",
       "      <td>10.00</td>\n",
       "    </tr>\n",
       "    <tr>\n",
       "      <th>Yann Rausis</th>\n",
       "      <td>4</td>\n",
       "      <td>1</td>\n",
       "      <td>0</td>\n",
       "      <td>0</td>\n",
       "      <td>0</td>\n",
       "      <td>0</td>\n",
       "      <td>4</td>\n",
       "      <td>1</td>\n",
       "      <td>70.67</td>\n",
       "    </tr>\n",
       "    <tr>\n",
       "      <th>Berkeley Patterson</th>\n",
       "      <td>4</td>\n",
       "      <td>1</td>\n",
       "      <td>1</td>\n",
       "      <td>0</td>\n",
       "      <td>1</td>\n",
       "      <td>1</td>\n",
       "      <td>3</td>\n",
       "      <td>1</td>\n",
       "      <td>67.00</td>\n",
       "    </tr>\n",
       "    <tr>\n",
       "      <th>Aymar Navarro</th>\n",
       "      <td>4</td>\n",
       "      <td>0</td>\n",
       "      <td>0</td>\n",
       "      <td>0</td>\n",
       "      <td>0</td>\n",
       "      <td>0</td>\n",
       "      <td>5</td>\n",
       "      <td>1</td>\n",
       "      <td>73.00</td>\n",
       "    </tr>\n",
       "    <tr>\n",
       "      <th>Kye Petersen</th>\n",
       "      <td>5</td>\n",
       "      <td>2</td>\n",
       "      <td>1</td>\n",
       "      <td>1</td>\n",
       "      <td>2</td>\n",
       "      <td>1</td>\n",
       "      <td>3</td>\n",
       "      <td>1</td>\n",
       "      <td>67.33</td>\n",
       "    </tr>\n",
       "    <tr>\n",
       "      <th>Kristofer Turdell</th>\n",
       "      <td>5</td>\n",
       "      <td>0</td>\n",
       "      <td>1</td>\n",
       "      <td>0</td>\n",
       "      <td>0</td>\n",
       "      <td>1</td>\n",
       "      <td>3</td>\n",
       "      <td>1</td>\n",
       "      <td>75.67</td>\n",
       "    </tr>\n",
       "    <tr>\n",
       "      <th>Craig Murray</th>\n",
       "      <td>3</td>\n",
       "      <td>2</td>\n",
       "      <td>0</td>\n",
       "      <td>0</td>\n",
       "      <td>2</td>\n",
       "      <td>0</td>\n",
       "      <td>4</td>\n",
       "      <td>1</td>\n",
       "      <td>77.33</td>\n",
       "    </tr>\n",
       "    <tr>\n",
       "      <th>Tom Peiffer</th>\n",
       "      <td>5</td>\n",
       "      <td>1</td>\n",
       "      <td>0</td>\n",
       "      <td>0</td>\n",
       "      <td>1</td>\n",
       "      <td>0</td>\n",
       "      <td>4</td>\n",
       "      <td>1</td>\n",
       "      <td>79.67</td>\n",
       "    </tr>\n",
       "    <tr>\n",
       "      <th>Grifen Moller</th>\n",
       "      <td>3</td>\n",
       "      <td>0</td>\n",
       "      <td>1</td>\n",
       "      <td>2</td>\n",
       "      <td>0</td>\n",
       "      <td>1</td>\n",
       "      <td>5</td>\n",
       "      <td>0</td>\n",
       "      <td>7.67</td>\n",
       "    </tr>\n",
       "    <tr>\n",
       "      <th>Wadeck Gorak</th>\n",
       "      <td>0</td>\n",
       "      <td>0</td>\n",
       "      <td>0</td>\n",
       "      <td>0</td>\n",
       "      <td>0</td>\n",
       "      <td>0</td>\n",
       "      <td>0</td>\n",
       "      <td>0</td>\n",
       "      <td>0.00</td>\n",
       "    </tr>\n",
       "    <tr>\n",
       "      <th>Leo Slemett</th>\n",
       "      <td>0</td>\n",
       "      <td>0</td>\n",
       "      <td>0</td>\n",
       "      <td>0</td>\n",
       "      <td>0</td>\n",
       "      <td>0</td>\n",
       "      <td>0</td>\n",
       "      <td>0</td>\n",
       "      <td>0.00</td>\n",
       "    </tr>\n",
       "  </tbody>\n",
       "</table>\n",
       "</div>"
      ],
      "text/plain": [
       "                    airs  spins  inverts  crashes  largest_spin  \\\n",
       "skier                                                             \n",
       "Mickael Bimboes        5      0        0        0             0   \n",
       "Drew Tabke             6      0        0        0             0   \n",
       "Andrew Pollard         5      0        0        1             0   \n",
       "Carl Eriksson          5      0        1        0             0   \n",
       "Yu Sasaki              4      1        0        0             1   \n",
       "Liam Peiffer           2      0        0        0             0   \n",
       "Yann Baudron           5      1        0        1             0   \n",
       "Reine Barkered         5      0        1        0             0   \n",
       "Markus Eder            7      2        1        0             1   \n",
       "Fabio Studer           4      1        1        2             1   \n",
       "Tanner Hall            6      2        1        0             1   \n",
       "Taisuke Kusunoki       3      0        0        1             0   \n",
       "Yann Rausis            4      1        0        0             0   \n",
       "Berkeley Patterson     4      1        1        0             1   \n",
       "Aymar Navarro          4      0        0        0             0   \n",
       "Kye Petersen           5      2        1        1             2   \n",
       "Kristofer Turdell      5      0        1        0             0   \n",
       "Craig Murray           3      2        0        0             2   \n",
       "Tom Peiffer            5      1        0        0             1   \n",
       "Grifen Moller          3      0        1        2             0   \n",
       "Wadeck Gorak           0      0        0        0             0   \n",
       "Leo Slemett            0      0        0        0             0   \n",
       "\n",
       "                    largest_invert  largest_magnitude  largest_landed  score  \n",
       "skier                                                                         \n",
       "Mickael Bimboes                  0                  3               1  70.00  \n",
       "Drew Tabke                       0                  4               1  75.00  \n",
       "Andrew Pollard                   0                  2               0  42.00  \n",
       "Carl Eriksson                    1                  2               1  61.67  \n",
       "Yu Sasaki                        0                  4               1  78.33  \n",
       "Liam Peiffer                     0                  4               1  65.33  \n",
       "Yann Baudron                     0                  3               1  28.67  \n",
       "Reine Barkered                   1                  4               1  76.67  \n",
       "Markus Eder                      1                  4               1  86.67  \n",
       "Fabio Studer                     1                  3               0   5.00  \n",
       "Tanner Hall                      0                  4               1  81.00  \n",
       "Taisuke Kusunoki                 0                  2               0  10.00  \n",
       "Yann Rausis                      0                  4               1  70.67  \n",
       "Berkeley Patterson               1                  3               1  67.00  \n",
       "Aymar Navarro                    0                  5               1  73.00  \n",
       "Kye Petersen                     1                  3               1  67.33  \n",
       "Kristofer Turdell                1                  3               1  75.67  \n",
       "Craig Murray                     0                  4               1  77.33  \n",
       "Tom Peiffer                      0                  4               1  79.67  \n",
       "Grifen Moller                    1                  5               0   7.67  \n",
       "Wadeck Gorak                     0                  0               0   0.00  \n",
       "Leo Slemett                      0                  0               0   0.00  "
      ]
     },
     "execution_count": 1692,
     "metadata": {},
     "output_type": "execute_result"
    }
   ],
   "source": [
    "df =  pd.read_csv('data/FWT_data.csv')\n",
    "df.drop('Unnamed: 10', axis=1, inplace=True)\n",
    "df.drop('Unnamed: 11', axis=1, inplace=True)\n",
    "df = df.set_index(\"skier\")\n",
    "df"
   ]
  },
  {
   "cell_type": "markdown",
   "metadata": {},
   "source": [
    "As seen in the data frame, we have many different data features. These features includes, *skier, airs, spins, inverts, crashes, largest_spin, largest_invert, largest_magnitude, largest_landed,* and *score*. \n",
    "\n",
    "The meaning of each is explained below,\n",
    "\n",
    "* Skier: This includes the name of the skier, to which the following columns and data belong\n",
    "* Airs: Total number of times a skier jumps off something during the event\n",
    "* Spins: Total number of times a skier performs a 360 degree spin while in the air\n",
    "* Inverts: Total number of times a skier flips, either back or forward while in the air\n",
    "* Crashes: Total number of times a skier crashes in the event\n",
    "* Largest_Spin: Total number of spins in the skier's largest trick in the event\n",
    "* Largest_Invert: Total number of flips in the skier's largest trick in the event\n",
    "* Largest_Magnitude: A value in the range of 1-5, describing the distance travelled in air of the skier's largest trick\n",
    "* Largest_Landed: True or false value determing if the skier landed their largest trick, 1=landed and 0=crashed\n",
    "* Score:The final score the skier received from the judges\n",
    "\n",
    "Unfortunately skiing does not have defined stats, unlike major sports such as basketball and baseball. These data features were selected based on judging criteria, as the analysis has a goal of determining if judging is unbiased and if there is a statistical approach to skiing. The decision behind collecting these data features, and scoring outline will be discussed in the next section. Looking back at our data, it is very clean, as this data is not made available by the FWT. The data was collected manually, by watching an event and recording data into Excel, then exporting into a CSV file, which is available. The event picked was in Hakuba, Japan in 2019. This was selected as it is the video/livestream replay that has the most views on the FWT YouTube channel, signalling that it was perhaps their most popular event to take place. This video can be found here; [LIVE WEBCAST Replay - Freeride World Tour Hakuba Japan 2019](https://www.youtube.com/watch?v=aXQnYTHspiE). It would only make an alaysis stronger to have record more events. However, it is very time consuming to watch an event. This results in a small dataset for this event and analysis. The only issue in this data is that two skier's were unable to participate and they must be removed from the dataset."
   ]
  },
  {
   "cell_type": "markdown",
   "metadata": {},
   "source": [
    "We must remove the two who did not participate, Wadeck Gorak and Leo Slemett."
   ]
  },
  {
   "cell_type": "code",
   "execution_count": 1693,
   "metadata": {},
   "outputs": [],
   "source": [
    "df.drop(\"Wadeck Gorak\", inplace=True)\n",
    "df.drop(\"Leo Slemett\", inplace=True)"
   ]
  },
  {
   "cell_type": "markdown",
   "metadata": {},
   "source": [
    "##Judging and Scoring\n",
    "\n",
    "When speaking to others, and observing FWT events it seems that judging and scoring is somewhat biased. It seems that well known skier's have an automatic higher score. This is something that is important to evaluate. The FWT has a [Judging Handbook](https://www.freerideworldtour.com/sites/default/files/2021_judging_handbook.pdf). Reading through this handbook confirms that there are 5 categories judges focus on when it comes to scoring. These categories are all supposed to equally impact a skier's score. The 5 categories are, *Line, Fluidity, Control, Air & Style,* and *Technique*. Judges seem to have a baseline score, then deduct and add points from performance in each of these categories. After each run, the FWT shows a graphic which shows judges thoughts on these five categories.\n",
    "\n",
    "<div style=\"text-align:center\">\n",
    "    <img src=\"images/FWT_criteriaresize.jpg\" />\n",
    "</div>\n",
    "\n",
    "As seen above, this skier should have points added to the baseline score for line and many points deducted from all other categories. The data features chose can all be used to evaluate each of these categories."
   ]
  },
  {
   "cell_type": "markdown",
   "metadata": {},
   "source": [
    "***\n",
    "##Baseline Score\n",
    "\n",
    "We should first determine what a baseline score would be. We should first calculate an average of scores."
   ]
  },
  {
   "cell_type": "code",
   "execution_count": 1694,
   "metadata": {},
   "outputs": [
    {
     "data": {
      "text/plain": [
       "59.934000000000005"
      ]
     },
     "execution_count": 1694,
     "metadata": {},
     "output_type": "execute_result"
    }
   ],
   "source": [
    "avg_score = df['score'].mean()\n",
    "avg_score"
   ]
  },
  {
   "cell_type": "markdown",
   "metadata": {},
   "source": [
    "Knowing that crashes will most likely result in a deduction of points, and spins/inverts will result in additional scores. We should evaluate where no spins, inverts, or crashes take place."
   ]
  },
  {
   "cell_type": "code",
   "execution_count": 1695,
   "metadata": {},
   "outputs": [
    {
     "data": {
      "text/html": [
       "<div>\n",
       "<style scoped>\n",
       "    .dataframe tbody tr th:only-of-type {\n",
       "        vertical-align: middle;\n",
       "    }\n",
       "\n",
       "    .dataframe tbody tr th {\n",
       "        vertical-align: top;\n",
       "    }\n",
       "\n",
       "    .dataframe thead th {\n",
       "        text-align: right;\n",
       "    }\n",
       "</style>\n",
       "<table border=\"1\" class=\"dataframe\">\n",
       "  <thead>\n",
       "    <tr style=\"text-align: right;\">\n",
       "      <th></th>\n",
       "      <th>airs</th>\n",
       "      <th>spins</th>\n",
       "      <th>inverts</th>\n",
       "      <th>crashes</th>\n",
       "      <th>largest_spin</th>\n",
       "      <th>largest_invert</th>\n",
       "      <th>largest_magnitude</th>\n",
       "      <th>largest_landed</th>\n",
       "      <th>score</th>\n",
       "    </tr>\n",
       "    <tr>\n",
       "      <th>skier</th>\n",
       "      <th></th>\n",
       "      <th></th>\n",
       "      <th></th>\n",
       "      <th></th>\n",
       "      <th></th>\n",
       "      <th></th>\n",
       "      <th></th>\n",
       "      <th></th>\n",
       "      <th></th>\n",
       "    </tr>\n",
       "  </thead>\n",
       "  <tbody>\n",
       "    <tr>\n",
       "      <th>Mickael Bimboes</th>\n",
       "      <td>5</td>\n",
       "      <td>0</td>\n",
       "      <td>0</td>\n",
       "      <td>0</td>\n",
       "      <td>0</td>\n",
       "      <td>0</td>\n",
       "      <td>3</td>\n",
       "      <td>1</td>\n",
       "      <td>70.00</td>\n",
       "    </tr>\n",
       "    <tr>\n",
       "      <th>Drew Tabke</th>\n",
       "      <td>6</td>\n",
       "      <td>0</td>\n",
       "      <td>0</td>\n",
       "      <td>0</td>\n",
       "      <td>0</td>\n",
       "      <td>0</td>\n",
       "      <td>4</td>\n",
       "      <td>1</td>\n",
       "      <td>75.00</td>\n",
       "    </tr>\n",
       "    <tr>\n",
       "      <th>Liam Peiffer</th>\n",
       "      <td>2</td>\n",
       "      <td>0</td>\n",
       "      <td>0</td>\n",
       "      <td>0</td>\n",
       "      <td>0</td>\n",
       "      <td>0</td>\n",
       "      <td>4</td>\n",
       "      <td>1</td>\n",
       "      <td>65.33</td>\n",
       "    </tr>\n",
       "    <tr>\n",
       "      <th>Aymar Navarro</th>\n",
       "      <td>4</td>\n",
       "      <td>0</td>\n",
       "      <td>0</td>\n",
       "      <td>0</td>\n",
       "      <td>0</td>\n",
       "      <td>0</td>\n",
       "      <td>5</td>\n",
       "      <td>1</td>\n",
       "      <td>73.00</td>\n",
       "    </tr>\n",
       "  </tbody>\n",
       "</table>\n",
       "</div>"
      ],
      "text/plain": [
       "                 airs  spins  inverts  crashes  largest_spin  largest_invert  \\\n",
       "skier                                                                          \n",
       "Mickael Bimboes     5      0        0        0             0               0   \n",
       "Drew Tabke          6      0        0        0             0               0   \n",
       "Liam Peiffer        2      0        0        0             0               0   \n",
       "Aymar Navarro       4      0        0        0             0               0   \n",
       "\n",
       "                 largest_magnitude  largest_landed  score  \n",
       "skier                                                      \n",
       "Mickael Bimboes                  3               1  70.00  \n",
       "Drew Tabke                       4               1  75.00  \n",
       "Liam Peiffer                     4               1  65.33  \n",
       "Aymar Navarro                    5               1  73.00  "
      ]
     },
     "execution_count": 1695,
     "metadata": {},
     "output_type": "execute_result"
    }
   ],
   "source": [
    "straight_airs_df = pd.read_csv('data/FWT_data.csv')\n",
    "straight_airs_df.drop('Unnamed: 10', axis=1, inplace=True)\n",
    "straight_airs_df.drop('Unnamed: 11', axis=1, inplace=True)\n",
    "straight_airs_df = straight_airs_df.set_index(\"skier\")\n",
    "straight_airs_df.drop(\"Wadeck Gorak\", inplace=True)\n",
    "straight_airs_df.drop(\"Leo Slemett\", inplace=True)\n",
    "\n",
    "straight_airs_df.drop(straight_airs_df[straight_airs_df['spins'] > 0].index, inplace=True) #Remove spins\n",
    "straight_airs_df.drop(straight_airs_df[straight_airs_df['inverts'] > 0].index, inplace=True) #Remove inverts\n",
    "straight_airs_df.drop(straight_airs_df[straight_airs_df['crashes'] > 0].index, inplace=True) #Remove crashes\n",
    "\n",
    "straight_airs_df"
   ]
  },
  {
   "cell_type": "markdown",
   "metadata": {},
   "source": [
    "From just a simple glance of this new data frame, we can see that all scores are actually very similary. The scores are in a much tighter range than the whole event. \n",
    "\n",
    "With a minimum score of,\n"
   ]
  },
  {
   "cell_type": "code",
   "execution_count": 1696,
   "metadata": {},
   "outputs": [
    {
     "data": {
      "text/plain": [
       "65.33"
      ]
     },
     "execution_count": 1696,
     "metadata": {},
     "output_type": "execute_result"
    }
   ],
   "source": [
    "straight_airs_df['score'].min()"
   ]
  },
  {
   "cell_type": "markdown",
   "metadata": {},
   "source": [
    "A maximum score of,\n"
   ]
  },
  {
   "cell_type": "code",
   "execution_count": 1697,
   "metadata": {},
   "outputs": [
    {
     "data": {
      "text/plain": [
       "75.0"
      ]
     },
     "execution_count": 1697,
     "metadata": {},
     "output_type": "execute_result"
    }
   ],
   "source": [
    "straight_airs_df['score'].max()"
   ]
  },
  {
   "cell_type": "markdown",
   "metadata": {},
   "source": [
    "This difference is relatively small, however, it seems it can be explained by the lack of airs resulting in the minimum score."
   ]
  },
  {
   "cell_type": "code",
   "execution_count": 1698,
   "metadata": {},
   "outputs": [
    {
     "data": {
      "image/png": "[encoded data removed]",
      "text/plain": [
       "<Figure size 720x360 with 1 Axes>"
      ]
     },
     "metadata": {
      "needs_background": "light"
     },
     "output_type": "display_data"
    }
   ],
   "source": [
    "straight_airs_df.sort_values(by=['airs'], inplace=True)\n",
    "\n",
    "plt.subplots(1, 1, figsize = (10, 5))\n",
    "plt.bar(straight_airs_df['airs'], straight_airs_df['score'], color='gray')\n",
    "plt.plot(straight_airs_df['airs'], straight_airs_df['score'], '-o', color='red')\n",
    "\n",
    "plt.title('Straight Airs Relationship to Score')\n",
    "plt.xlabel('Number of Straight Airs')\n",
    "plt.ylabel('Score')\n",
    "plt.show()"
   ]
  },
  {
   "cell_type": "markdown",
   "metadata": {},
   "source": [
    "We see above that the number of airs does play an impact in increasing score when no spins, inverts or crashes occur. The data we have is so small, that we see a dip where the number of airs is equal to 5. This is due to just having a single skier, and a single run for each of these data points. This could mean Mickael Bimboes, who did 5 airs, still had some other impacts in his run that reduced his score, but were not recorded in the data set. This is why a larger data set would be more beneficial. We should now figure out what the average score is for an average number of airs, with no other scoring impacts (no spins, inverts, or crashes)."
   ]
  },
  {
   "cell_type": "code",
   "execution_count": 1699,
   "metadata": {},
   "outputs": [
    {
     "name": "stdout",
     "output_type": "stream",
     "text": [
      "Baseline Airs:  4.25\n",
      "Baseline Score:  70.8325\n"
     ]
    }
   ],
   "source": [
    "baseline_airs = straight_airs_df['airs'].mean()\n",
    "baseline_score = straight_airs_df['score'].mean()\n",
    "\n",
    "print(\"Baseline Airs: \", baseline_airs)\n",
    "print(\"Baseline Score: \", baseline_score)"
   ]
  },
  {
   "cell_type": "markdown",
   "metadata": {},
   "source": [
    "We can now start working off a baseline score of 70.8325 points when a run has about 4 airs, and no spins, inverts, or crashes. This is further backed up as the scores of Aymar Navarro and Mickael Bimboes are very similar, with 4 and 5 airs respectively. The score of Aymar Navarro is above this baseline with only 4 airs is evidenced by his above average magnitude on his largest air. Whereas, Mickael Bimboes had an average magnitude, with slighlty more airs than average, and resulted in a lower score."
   ]
  },
  {
   "cell_type": "markdown",
   "metadata": {},
   "source": [
    "***\n",
    "##Line\n",
    "\n",
    "A 'line' as explained before is a skier's path down the mountain face. A skier will have to choose a 'line' that has multiple features in order to do airs, spins, and inverts. Therefore, we can evaluate a skier's line through their total number of airs, and their largest_magnitude. As we will be able to see how risky their 'line' selection is, and how exciting it is. Again, we will not want to evaluate any crashes. Inverts and spins should also not have an impact.\n",
    "\n",
    "Working from a baseline of ~70 points for an average run of 4.25 airs, we should divide this value by the 5 categories, to understand the baseline points of each category."
   ]
  },
  {
   "cell_type": "code",
   "execution_count": 1700,
   "metadata": {},
   "outputs": [
    {
     "data": {
      "text/plain": [
       "14.1665"
      ]
     },
     "execution_count": 1700,
     "metadata": {},
     "output_type": "execute_result"
    }
   ],
   "source": [
    "category_baseline = baseline_score / 5\n",
    "category_baseline"
   ]
  },
  {
   "cell_type": "markdown",
   "metadata": {},
   "source": [
    "We can now work based on expected values for a scoring system, where we multiply the category baseline to a calculated weight based on performance in the category. The weight can be both positive and negative, to add and subtract points, however, can only add a maximum of 6 points, to reach the maximum score of 100. This weighting will take into account probability inderctly, through a negative value when crashes occur.\n",
    "\n",
    "An equation will be defined as,\n",
    "\n",
    "\\begin{gather*}\n",
    "E[x]=14W_1[x]+14W_2[x]+...+14W_5[x]\n",
    "\\end{gather*}\n",
    "\n",
    "Each W value can be calculated through the appropriate data features, and will have an impact."
   ]
  },
  {
   "cell_type": "markdown",
   "metadata": {},
   "source": [
    "***\n",
    "It is importat to quickly touch on which data features impact each of these categories.\n",
    "\n",
    "##Fluidity\n",
    "This category is determined by a skier having fluid motion down the mountain face. Therefore, a good consistency of airs, and no crashes would result in the highest score in this category. Crashes would be the most impactful on this category, as a crash would ruin fluidity.\n",
    "\n",
    "##Control\n",
    "This category defines how in control a skier was down the mountain face. To be in control relies solely on not crashing. Therefore, crashes is again the most impactful of this category, and the only data feature that impacts this category.\n",
    "\n",
    "##Air & Style\n",
    "This category defines the skier's number of airs, spins, and inverts. This category also includes style, which is impacted again by tricks, however, crashing does leave a bad impact on style. While the number of airs, spins, and inverts are all included, crashes make up a large portion of this category too.\n",
    "\n",
    "##Technique\n",
    "This category is again going to take in some role of airs, spins, and inverts. However, again crashing will have a significant impact on the category.\n",
    "\n",
    "##Crashes\n",
    "As we can see, crashes are involved in all categories. While trying to evaluate a weight for each category is an interesting apporach. It seems that the FWT is defined really around crashes. Therefore, an approach to take is evaluating runs with and without crashes, then evaluating scoring differences to understand how judging works."
   ]
  },
  {
   "cell_type": "markdown",
   "metadata": {},
   "source": [
    "***\n",
    "##No Crashes Investigation"
   ]
  },
  {
   "cell_type": "code",
   "execution_count": 1701,
   "metadata": {},
   "outputs": [
    {
     "data": {
      "image/png": "[encoded data removed]",
      "text/plain": [
       "<Figure size 720x360 with 1 Axes>"
      ]
     },
     "metadata": {
      "needs_background": "light"
     },
     "output_type": "display_data"
    }
   ],
   "source": [
    "no_crash_df = pd.read_csv('data/FWT_data.csv')\n",
    "no_crash_df.drop('Unnamed: 10', axis=1, inplace=True)\n",
    "no_crash_df.drop('Unnamed: 11', axis=1, inplace=True)\n",
    "no_crash_df = no_crash_df.set_index(\"skier\")\n",
    "no_crash_df.drop(\"Wadeck Gorak\", inplace=True)\n",
    "no_crash_df.drop(\"Leo Slemett\", inplace=True)\n",
    "\n",
    "no_crash_df.drop(no_crash_df[no_crash_df['crashes'] > 0].index, inplace=True) #Remove crashes\n",
    "\n",
    "no_crash_df['total_elements'] = no_crash_df[list(no_crash_df.columns)].sum(axis=1) - no_crash_df['score'] \n",
    "\n",
    "no_crash_df = no_crash_df.sort_values('score').drop_duplicates('total_elements', keep='last')\n",
    "\n",
    "x = no_crash_df['total_elements'].to_numpy()\n",
    "y = no_crash_df['score'].to_numpy()\n",
    " \n",
    "cubic_interploation_model = interp1d(x, y, kind = \"cubic\")\n",
    " \n",
    "X_= np.linspace(x.min(), x.max(), 500)\n",
    "Y_ = cubic_interploation_model(X_)\n",
    "\n",
    "coef = np.polyfit(x,y,1)\n",
    "poly_fn = np.poly1d(coef) \n",
    "\n",
    "plt.subplots(1, 1, figsize = (10, 5))\n",
    "plt.plot(x,y, 'yo', x, poly_fn(x), '--k')\n",
    "plt.plot(X_, Y_)\n",
    "plt.title('No Crashes Relationship to Score')\n",
    "plt.xlabel('Number of Elements in Run')\n",
    "plt.ylabel('Score')\n",
    "plt.show()"
   ]
  },
  {
   "cell_type": "markdown",
   "metadata": {},
   "source": [
    "As seen above, a dataframe was created that only included rows where no crashes occured, then condensed based on a new column called, *total_elements*. This column is a summation of all airs, inverts, spins, and largest features. The formula is simply,\n",
    "\n",
    "\\begin{gather*}\n",
    "totalElements = airs+spins+inverts+largestSpin+largestInvert+largestMagnitude\n",
    "\\end{gather*}\n",
    "\n",
    "We then have a data point about how many elements were involved in a run with no crashes. To make thigs simply, I have only kept the max score, when there are multiple skier's with the same number of total elements. This resulted in a bit of outliers in 11 and 12 total elements. However, overlaying a linear regression on the above plot still shows strong evidence of a linear relation amont total elements increasing and score directly increasing. Of course this is simplified here as there are no crashes.\n",
    "\n",
    "We should then investigate runs with crashes, and see if a relation can be generated similar to score decreasing with number of crashes decreasing the number of total elements."
   ]
  },
  {
   "cell_type": "markdown",
   "metadata": {},
   "source": [
    "***\n",
    "##Crashes Investigation"
   ]
  },
  {
   "cell_type": "code",
   "execution_count": 1702,
   "metadata": {},
   "outputs": [
    {
     "data": {
      "image/png": "[encoded data removed]",
      "text/plain": [
       "<Figure size 720x360 with 1 Axes>"
      ]
     },
     "metadata": {
      "needs_background": "light"
     },
     "output_type": "display_data"
    }
   ],
   "source": [
    "crashes_df = pd.read_csv('data/FWT_data.csv')\n",
    "crashes_df.drop('Unnamed: 10', axis=1, inplace=True)\n",
    "crashes_df.drop('Unnamed: 11', axis=1, inplace=True)\n",
    "crashes_df = crashes_df.set_index(\"skier\")\n",
    "crashes_df.drop(\"Wadeck Gorak\", inplace=True)\n",
    "crashes_df.drop(\"Leo Slemett\", inplace=True)\n",
    "\n",
    "crashes_df.drop(crashes_df[crashes_df['crashes'] < 1].index, inplace=True)\n",
    "\n",
    "crashes_df['total_elements'] = crashes_df['airs'] + crashes_df['spins'] + crashes_df['inverts'] - pow(crashes_df['crashes'], 2) + (crashes_df['largest_magnitude'] + crashes_df['largest_invert'] + crashes_df['largest_spin']) * crashes_df['largest_landed']\n",
    "\n",
    "crashes_df = crashes_df.sort_values('score').drop_duplicates('total_elements', keep='last')\n",
    "\n",
    "x = crashes_df['total_elements'].to_numpy()\n",
    "y = crashes_df['score'].to_numpy()\n",
    " \n",
    "crashed_cubic_interploation_model = interp1d(x, y, kind = \"cubic\")\n",
    " \n",
    "X_= np.linspace(x.min(), x.max(), 500)\n",
    "Y_ = crashed_cubic_interploation_model(X_)\n",
    "\n",
    "crashed_coef = np.polyfit(x,y,1)\n",
    "crashed_poly_fn = np.poly1d(crashed_coef) \n",
    "\n",
    "plt.subplots(1, 1, figsize = (10, 5))\n",
    "plt.plot(x,y, 'yo', x, crashed_poly_fn(x), '--k')\n",
    "plt.plot(X_, Y_)\n",
    "plt.title('Crash Occured Relationship to Score')\n",
    "plt.xlabel('Number of Elements in Run')\n",
    "plt.ylabel('Score')\n",
    "plt.show()\n"
   ]
  },
  {
   "cell_type": "markdown",
   "metadata": {},
   "source": [
    "The graph shown above has an extreme variance in the new calculation of total elements against the score given. This begins to question the validity of scoring. We can see a linear regression does again show a general increase of score when this new total elements is calculated. The new formula for total elements which takes into account crashes is,\n",
    "\n",
    "\\begin{gather*}\n",
    "totalElements = airs+spins+inverts+(largestSpin+largestInvert+largestMagnitude)*largestLanded-crashes^2\n",
    "\\end{gather*}\n",
    "\n",
    "Therefore, through this equation we give skier's points for all their airs, spins, and inverts. However, only give elements from the largest category when they land this particular trick. This gives skier's points for their efforts, and takes away elements for their number of crashes. The number of crashes is squared, as a simple look at the scoring shows a dramatic increase in score reduction when a skier crashes multiple times. It is very hard to measure this exponential value, so we will simply use an exponent 2. \n",
    "\n",
    "This new more complex formula for *totalElements*, simply includes the ability to reduce the number based on crashes occuring. Previously, no crashes occured, using this more complex formula will yield the same values for skier's with no crashes as the simplified equation."
   ]
  },
  {
   "cell_type": "markdown",
   "metadata": {},
   "source": [
    "***\n",
    "##Comparing Not Crashing Against Crashing\n",
    "We can now compare the two linear regression functions,"
   ]
  },
  {
   "cell_type": "code",
   "execution_count": 1703,
   "metadata": {},
   "outputs": [
    {
     "data": {
      "image/png": "[encoded data removed]",
      "text/plain": [
       "<Figure size 720x360 with 1 Axes>"
      ]
     },
     "metadata": {
      "needs_background": "light"
     },
     "output_type": "display_data"
    }
   ],
   "source": [
    "fig, ax = plt.subplots(1, 1, figsize = (10, 5))\n",
    "x = np.linspace(0, no_crash_df['total_elements'].max())\n",
    "\n",
    "x = np.linspace(0, no_crash_df['total_elements'].max(), crashes_df['total_elements'].size)\n",
    "y = crashes_df['score'].to_numpy()\n",
    "\n",
    "crashed_cubic_interploation_model = interp1d(x, y, kind = \"cubic\")\n",
    " \n",
    "X_= np.linspace(x.min(), x.max(), 500)\n",
    "Y_ = crashed_cubic_interploation_model(X_)\n",
    "\n",
    "crashed_coef = np.polyfit(x,y,1)\n",
    "crashed_poly_fn = np.poly1d(crashed_coef) \n",
    "\n",
    "line1, = ax.plot(x, crashed_poly_fn(x), '--r', label=\"Crashed Regression\")\n",
    "line2, = ax.plot(x,y, 'ro')\n",
    "first_legend = ax.legend(handles=[line1], loc='lower right')\n",
    "ax.add_artist(first_legend)\n",
    "\n",
    "x = np.linspace(0, no_crash_df['total_elements'].max(), no_crash_df['total_elements'].size)\n",
    "y = no_crash_df['score'].to_numpy()\n",
    " \n",
    "cubic_interploation_model = interp1d(x, y, kind = \"cubic\")\n",
    " \n",
    "X_= np.linspace(x.min(), x.max(), 500)\n",
    "Y_ = cubic_interploation_model(X_)\n",
    "\n",
    "coef = np.polyfit(x,y,1)\n",
    "poly_fn = np.poly1d(coef) \n",
    "\n",
    "line3, = ax.plot(x, poly_fn(x), '--b', label=\"No Crashes Regression\")\n",
    "line4, = ax.plot(x,y, 'bo')\n",
    "ax.legend(handles=[line3], loc='upper right')\n",
    "\n",
    "plt.title('No Crashes vs Crash Occured Against Score')\n",
    "plt.xlabel('Number of Elements in Run')\n",
    "plt.ylabel('Score')\n",
    "plt.show()"
   ]
  },
  {
   "cell_type": "markdown",
   "metadata": {},
   "source": [
    "With these two regressions on the same plot, we can clearly see there is some sort of bias towards automatically deeming lower scores for runs with crashes. The regression function that was generated for \"Crashed Regression\" uses the scoring data for when crashes occur. However, using our *totalElements* formula, we can still generate the same number of elements as a \"No Crashes Regression\" scenario. However, we still have this looming stigma over a run where a skier crashes. While a skier could crash, but still come back and land many airs, spins, and inverts, the crash outweighs all of this. Once you crash, you immediately will not receive the same credit for landing the same tricks later on as a skier who did not crash. This seems somewhat unfair, as a skier could hit bad snow causing them to crash. This points to the idea that perhpas judges do not equally weight all categories. When thinking about this, we must go back to what elements make up a category. Crashes are an element of many categories, perhaps involved in more categories than a single other data feature. Thus, crashes have an impact on nearly all categories.\n",
    "\n",
    "The slopes of both regressions are also different,"
   ]
  },
  {
   "cell_type": "code",
   "execution_count": 1704,
   "metadata": {},
   "outputs": [
    {
     "name": "stdout",
     "output_type": "stream",
     "text": [
      "No Crashes Slope:  1.1683613445378143\n",
      "Crashed Slope:  3.5604705882352947\n"
     ]
    }
   ],
   "source": [
    "no_crash_slope = (poly_fn(15)-poly_fn(10))/5\n",
    "crashed_slope = (crashed_poly_fn(15)-crashed_poly_fn(10))/5\n",
    "\n",
    "print(\"No Crashes Slope: \", no_crash_slope)\n",
    "print(\"Crashed Slope: \", crashed_slope)"
   ]
  },
  {
   "cell_type": "markdown",
   "metadata": {},
   "source": [
    "Here we can see for the same difference of *totalElements* values, the slope for the \"Crashed Regression\" is much larger, more than 3 times that of the \"No Crashes Regression\". This shows that when a crash occurs, you will obviously receive a large point deduction. However, you can recoup some points faster by making a recovery and doing airs, inverts and spins. We can clearly see in the above plot that once a crash does occur, while you can gain points quicker, a skier will never reach the same point value as a skier who did not crash.\n",
    "***"
   ]
  },
  {
   "cell_type": "markdown",
   "metadata": {},
   "source": [
    "##Judging Conclusion\n",
    "\n",
    "In conclusion, a skier must strategize their run to abosolutely not crash. If a crash occurs they must understand that their run is practically over, and they don't have any way to recover lost points. This is unfortunate, and shows that taking risk is actually not rewarding in this skiing event. The scoring should perhaps reevaluate this, as risk taking is what makes the event enjoyable to watch. A winning run would be modest, whereas an entertaining and exciting one would perhaps result in a low score if a crash were to occur."
   ]
  },
  {
   "cell_type": "markdown",
   "metadata": {},
   "source": [
    "***\n",
    "##Social Media\n",
    "\n",
    "As a quick aside, social media has a large role on society today. Instagram seems to be the most popular for \"ski culture\" as many skier's post daily on their Instaram stories, and frequently post short videos of their successes. We should take a look at if *totalElements* somehow plays a role in terms of follower count. As follower count is the easiest way to see social media sucess.\n",
    "\n",
    "Read in follower data,"
   ]
  },
  {
   "cell_type": "code",
   "execution_count": 1705,
   "metadata": {},
   "outputs": [
    {
     "data": {
      "text/html": [
       "<div>\n",
       "<style scoped>\n",
       "    .dataframe tbody tr th:only-of-type {\n",
       "        vertical-align: middle;\n",
       "    }\n",
       "\n",
       "    .dataframe tbody tr th {\n",
       "        vertical-align: top;\n",
       "    }\n",
       "\n",
       "    .dataframe thead th {\n",
       "        text-align: right;\n",
       "    }\n",
       "</style>\n",
       "<table border=\"1\" class=\"dataframe\">\n",
       "  <thead>\n",
       "    <tr style=\"text-align: right;\">\n",
       "      <th></th>\n",
       "      <th>followers</th>\n",
       "    </tr>\n",
       "    <tr>\n",
       "      <th>skier</th>\n",
       "      <th></th>\n",
       "    </tr>\n",
       "  </thead>\n",
       "  <tbody>\n",
       "    <tr>\n",
       "      <th>Mickael Bimboes</th>\n",
       "      <td>56100</td>\n",
       "    </tr>\n",
       "    <tr>\n",
       "      <th>Drew Tabke</th>\n",
       "      <td>13900</td>\n",
       "    </tr>\n",
       "    <tr>\n",
       "      <th>Andrew Pollard</th>\n",
       "      <td>11400</td>\n",
       "    </tr>\n",
       "    <tr>\n",
       "      <th>Carl Eriksson</th>\n",
       "      <td>12800</td>\n",
       "    </tr>\n",
       "    <tr>\n",
       "      <th>Yu Sasaki</th>\n",
       "      <td>7435</td>\n",
       "    </tr>\n",
       "    <tr>\n",
       "      <th>Liam Peiffer</th>\n",
       "      <td>1467</td>\n",
       "    </tr>\n",
       "    <tr>\n",
       "      <th>Yann Baudron</th>\n",
       "      <td>7555</td>\n",
       "    </tr>\n",
       "    <tr>\n",
       "      <th>Reine Barkered</th>\n",
       "      <td>34800</td>\n",
       "    </tr>\n",
       "    <tr>\n",
       "      <th>Markus Eder</th>\n",
       "      <td>230000</td>\n",
       "    </tr>\n",
       "    <tr>\n",
       "      <th>Fabio Studer</th>\n",
       "      <td>84200</td>\n",
       "    </tr>\n",
       "    <tr>\n",
       "      <th>Tanner Hall</th>\n",
       "      <td>237000</td>\n",
       "    </tr>\n",
       "    <tr>\n",
       "      <th>Taisuke Kusunoki</th>\n",
       "      <td>5795</td>\n",
       "    </tr>\n",
       "    <tr>\n",
       "      <th>Yann Rausis</th>\n",
       "      <td>7555</td>\n",
       "    </tr>\n",
       "    <tr>\n",
       "      <th>Berkeley Patterson</th>\n",
       "      <td>2412</td>\n",
       "    </tr>\n",
       "    <tr>\n",
       "      <th>Aymar Navarro</th>\n",
       "      <td>74700</td>\n",
       "    </tr>\n",
       "    <tr>\n",
       "      <th>Kye Petersen</th>\n",
       "      <td>43500</td>\n",
       "    </tr>\n",
       "    <tr>\n",
       "      <th>Kristofer Turdell</th>\n",
       "      <td>39600</td>\n",
       "    </tr>\n",
       "    <tr>\n",
       "      <th>Craig Murray</th>\n",
       "      <td>17300</td>\n",
       "    </tr>\n",
       "    <tr>\n",
       "      <th>Tom Peiffer</th>\n",
       "      <td>3791</td>\n",
       "    </tr>\n",
       "    <tr>\n",
       "      <th>Grifen Moller</th>\n",
       "      <td>3151</td>\n",
       "    </tr>\n",
       "    <tr>\n",
       "      <th>Wadeck Gorak</th>\n",
       "      <td>28000</td>\n",
       "    </tr>\n",
       "    <tr>\n",
       "      <th>Leo Slemett</th>\n",
       "      <td>90100</td>\n",
       "    </tr>\n",
       "  </tbody>\n",
       "</table>\n",
       "</div>"
      ],
      "text/plain": [
       "                    followers\n",
       "skier                        \n",
       "Mickael Bimboes         56100\n",
       "Drew Tabke              13900\n",
       "Andrew Pollard          11400\n",
       "Carl Eriksson           12800\n",
       "Yu Sasaki                7435\n",
       "Liam Peiffer             1467\n",
       "Yann Baudron             7555\n",
       "Reine Barkered          34800\n",
       "Markus Eder            230000\n",
       "Fabio Studer            84200\n",
       "Tanner Hall            237000\n",
       "Taisuke Kusunoki         5795\n",
       "Yann Rausis              7555\n",
       "Berkeley Patterson       2412\n",
       "Aymar Navarro           74700\n",
       "Kye Petersen            43500\n",
       "Kristofer Turdell       39600\n",
       "Craig Murray            17300\n",
       "Tom Peiffer              3791\n",
       "Grifen Moller            3151\n",
       "Wadeck Gorak            28000\n",
       "Leo Slemett             90100"
      ]
     },
     "execution_count": 1705,
     "metadata": {},
     "output_type": "execute_result"
    }
   ],
   "source": [
    "followers_df =  pd.read_csv('data/FWT_followers.csv')\n",
    "followers_df = followers_df.set_index(\"skier\")\n",
    "followers_df"
   ]
  },
  {
   "cell_type": "markdown",
   "metadata": {},
   "source": [
    "Here we can see a simple dataframe of a skier and their follower count. Instagram does not show followers down to an exact value once followers exceeds 10,000. These rounded values should be close. Also, unfortunately the Instragram API does not have a way to retrieve old follower counts. As a more interesting analysis would be to check follower percentage gain before and after this event. To see if riskier skiers were able to gain a higher percentage of followers.\n",
    "\n",
    "Plotting *totalElements* against followers,"
   ]
  },
  {
   "cell_type": "code",
   "execution_count": 1706,
   "metadata": {},
   "outputs": [
    {
     "data": {
      "image/png": "[encoded data removed]",
      "text/plain": [
       "<Figure size 720x360 with 1 Axes>"
      ]
     },
     "metadata": {
      "needs_background": "light"
     },
     "output_type": "display_data"
    }
   ],
   "source": [
    "followers_df['total_elements'] = df['airs'] + df['spins'] + df['inverts'] - pow(df['crashes'], 2) + (df['largest_magnitude'] + df['largest_invert'] + df['largest_spin']) * df['largest_landed']\n",
    "\n",
    "plt.subplots(1, 1, figsize = (10, 5))\n",
    "plt.plot(followers_df['total_elements'], followers_df['followers'],'ko')\n",
    "\n",
    "plt.title('Number of Elements Relationship to Followers')\n",
    "plt.xlabel('Number of Elements')\n",
    "plt.ylabel('Instagram Follower Count')\n",
    "plt.show()"
   ]
  },
  {
   "cell_type": "markdown",
   "metadata": {},
   "source": [
    "Seen above, there isn't much of a relationship. The two highest *totalElements* values do have the highest follower counts, which is intersting. However, there seems to be a very average number of followers below the value of 50,000. This could perhaps point to a total of dedicated ski and FWT fans that is around 50,000. Where people are likely to follow all skiers of the FWT."
   ]
  },
  {
   "cell_type": "code",
   "execution_count": 1707,
   "metadata": {},
   "outputs": [
    {
     "data": {
      "image/png": "[encoded data removed]",
      "text/plain": [
       "<Figure size 720x360 with 1 Axes>"
      ]
     },
     "metadata": {
      "needs_background": "light"
     },
     "output_type": "display_data"
    },
    {
     "name": "stdout",
     "output_type": "stream",
     "text": [
      "Average Followers:  15028.8125\n"
     ]
    }
   ],
   "source": [
    "sub_50_df = pd.read_csv(\"data/FWT_followers.csv\")\n",
    "sub_50_df = sub_50_df.set_index(\"skier\")\n",
    "\n",
    "sub_50_df.drop(sub_50_df[sub_50_df['followers'] > 50000].index, inplace=True) \n",
    "sub_50_df['total_elements'] = df['airs'] + df['spins'] + df['inverts'] - pow(df['crashes'], 2) + (df['largest_magnitude'] + df['largest_invert'] + df['largest_spin']) * df['largest_landed']\n",
    "\n",
    "plt.subplots(1, 1, figsize = (10, 5))\n",
    "plt.plot(sub_50_df['total_elements'], sub_50_df['followers'],'ko')\n",
    "\n",
    "plt.title('Number of Elements Relationship to Followers (Below 50,000)')\n",
    "plt.xlabel('Number of Elements')\n",
    "plt.ylabel('Instagram Follower Count')\n",
    "plt.show()\n",
    "\n",
    "print(\"Average Followers: \", sub_50_df['followers'].mean())"
   ]
  },
  {
   "cell_type": "markdown",
   "metadata": {},
   "source": [
    "Interestingly, we do see a good increase once *totalElements* exceeds 8. However, the follower difference is not huge. I don't see much of a correlation to risk increasing follower count. Perhaps other factors such as time in the sport are much more important here. The easiest way to do this would be collecting ages, and plotting against follower count."
   ]
  },
  {
   "cell_type": "markdown",
   "metadata": {},
   "source": [
    "Skier's ages are contained in this dataframe,"
   ]
  },
  {
   "cell_type": "code",
   "execution_count": 1708,
   "metadata": {},
   "outputs": [
    {
     "data": {
      "text/html": [
       "<div>\n",
       "<style scoped>\n",
       "    .dataframe tbody tr th:only-of-type {\n",
       "        vertical-align: middle;\n",
       "    }\n",
       "\n",
       "    .dataframe tbody tr th {\n",
       "        vertical-align: top;\n",
       "    }\n",
       "\n",
       "    .dataframe thead th {\n",
       "        text-align: right;\n",
       "    }\n",
       "</style>\n",
       "<table border=\"1\" class=\"dataframe\">\n",
       "  <thead>\n",
       "    <tr style=\"text-align: right;\">\n",
       "      <th></th>\n",
       "      <th>age</th>\n",
       "    </tr>\n",
       "    <tr>\n",
       "      <th>skier</th>\n",
       "      <th></th>\n",
       "    </tr>\n",
       "  </thead>\n",
       "  <tbody>\n",
       "    <tr>\n",
       "      <th>Mickael Bimboes</th>\n",
       "      <td>35</td>\n",
       "    </tr>\n",
       "    <tr>\n",
       "      <th>Drew Tabke</th>\n",
       "      <td>37</td>\n",
       "    </tr>\n",
       "    <tr>\n",
       "      <th>Andrew Pollard</th>\n",
       "      <td>27</td>\n",
       "    </tr>\n",
       "    <tr>\n",
       "      <th>Carl Eriksson</th>\n",
       "      <td>28</td>\n",
       "    </tr>\n",
       "    <tr>\n",
       "      <th>Yu Sasaki</th>\n",
       "      <td>35</td>\n",
       "    </tr>\n",
       "    <tr>\n",
       "      <th>Liam Peiffer</th>\n",
       "      <td>24</td>\n",
       "    </tr>\n",
       "    <tr>\n",
       "      <th>Yann Baudron</th>\n",
       "      <td>33</td>\n",
       "    </tr>\n",
       "    <tr>\n",
       "      <th>Reine Barkered</th>\n",
       "      <td>39</td>\n",
       "    </tr>\n",
       "    <tr>\n",
       "      <th>Markus Eder</th>\n",
       "      <td>30</td>\n",
       "    </tr>\n",
       "    <tr>\n",
       "      <th>Fabio Studer</th>\n",
       "      <td>35</td>\n",
       "    </tr>\n",
       "    <tr>\n",
       "      <th>Tanner Hall</th>\n",
       "      <td>38</td>\n",
       "    </tr>\n",
       "    <tr>\n",
       "      <th>Taisuke Kusunoki</th>\n",
       "      <td>37</td>\n",
       "    </tr>\n",
       "    <tr>\n",
       "      <th>Yann Rausis</th>\n",
       "      <td>27</td>\n",
       "    </tr>\n",
       "    <tr>\n",
       "      <th>Berkeley Patterson</th>\n",
       "      <td>23</td>\n",
       "    </tr>\n",
       "    <tr>\n",
       "      <th>Aymar Navarro</th>\n",
       "      <td>32</td>\n",
       "    </tr>\n",
       "    <tr>\n",
       "      <th>Kye Petersen</th>\n",
       "      <td>31</td>\n",
       "    </tr>\n",
       "    <tr>\n",
       "      <th>Kristofer Turdell</th>\n",
       "      <td>31</td>\n",
       "    </tr>\n",
       "    <tr>\n",
       "      <th>Craig Murray</th>\n",
       "      <td>23</td>\n",
       "    </tr>\n",
       "    <tr>\n",
       "      <th>Tom Peiffer</th>\n",
       "      <td>24</td>\n",
       "    </tr>\n",
       "    <tr>\n",
       "      <th>Grifen Moller</th>\n",
       "      <td>23</td>\n",
       "    </tr>\n",
       "    <tr>\n",
       "      <th>Wadeck Gorak</th>\n",
       "      <td>32</td>\n",
       "    </tr>\n",
       "    <tr>\n",
       "      <th>Leo Slemett</th>\n",
       "      <td>28</td>\n",
       "    </tr>\n",
       "  </tbody>\n",
       "</table>\n",
       "</div>"
      ],
      "text/plain": [
       "                    age\n",
       "skier                  \n",
       "Mickael Bimboes      35\n",
       "Drew Tabke           37\n",
       "Andrew Pollard       27\n",
       "Carl Eriksson        28\n",
       "Yu Sasaki            35\n",
       "Liam Peiffer         24\n",
       "Yann Baudron         33\n",
       "Reine Barkered       39\n",
       "Markus Eder          30\n",
       "Fabio Studer         35\n",
       "Tanner Hall          38\n",
       "Taisuke Kusunoki     37\n",
       "Yann Rausis          27\n",
       "Berkeley Patterson   23\n",
       "Aymar Navarro        32\n",
       "Kye Petersen         31\n",
       "Kristofer Turdell    31\n",
       "Craig Murray         23\n",
       "Tom Peiffer          24\n",
       "Grifen Moller        23\n",
       "Wadeck Gorak         32\n",
       "Leo Slemett          28"
      ]
     },
     "execution_count": 1708,
     "metadata": {},
     "output_type": "execute_result"
    }
   ],
   "source": [
    "ages_df = pd.read_csv(\"data/FWT_ages.csv\")\n",
    "ages_df = ages_df.set_index(\"skier\")\n",
    "ages_df"
   ]
  },
  {
   "cell_type": "markdown",
   "metadata": {},
   "source": [
    "We can now plot these ages against follower count."
   ]
  },
  {
   "cell_type": "code",
   "execution_count": 1709,
   "metadata": {},
   "outputs": [
    {
     "data": {
      "image/png": "[encoded data removed]",
      "text/plain": [
       "<Figure size 720x360 with 1 Axes>"
      ]
     },
     "metadata": {
      "needs_background": "light"
     },
     "output_type": "display_data"
    }
   ],
   "source": [
    "ages_df = pd.concat([ages_df, followers_df], axis=1)\n",
    "\n",
    "plt.subplots(1, 1, figsize = (10, 5))\n",
    "plt.plot(ages_df['age'], ages_df['followers'],'ko')\n",
    "\n",
    "plt.title('Age Relationship to Followers')\n",
    "plt.xlabel('Skier\\'s Age')\n",
    "plt.ylabel('Instagram Follower Count')\n",
    "plt.show()\n"
   ]
  },
  {
   "cell_type": "markdown",
   "metadata": {},
   "source": [
    "Interstingly, this plot looks very similar to *totalElements* against follower count, let's investigate the relationship of age and *totalElements*."
   ]
  },
  {
   "cell_type": "code",
   "execution_count": 1710,
   "metadata": {},
   "outputs": [
    {
     "data": {
      "image/png": "[encoded data removed]",
      "text/plain": [
       "<Figure size 720x360 with 1 Axes>"
      ]
     },
     "metadata": {
      "needs_background": "light"
     },
     "output_type": "display_data"
    }
   ],
   "source": [
    "plt.subplots(1, 1, figsize = (10, 5))\n",
    "plt.plot(ages_df['age'], ages_df['total_elements'],'ko')\n",
    "\n",
    "plt.title('Age Relationship to Number of Elements')\n",
    "plt.xlabel('Skier\\'s Age')\n",
    "plt.ylabel('Number of Elements')\n",
    "plt.show()"
   ]
  },
  {
   "cell_type": "markdown",
   "metadata": {},
   "source": [
    "***\n",
    "##Social Media Conclusion\n",
    "It seems that the strongest relationship is generally as *totalElements* increases, then follower count increases. It is interesting that when age increases *totalElements* does not decrease. Perhpas signalling that the most important impact to a skier's career is the length of it. Having a strong body, and being able to keep up with younger skier's will allow you to continue earning revenue. Social media is interesting, in that you may not be the best skier, however, your personality is important. This would be hard to measure, but it seems as though a skier's career consists of so many facets. A skier should compete, perhaps having little risk as age increases, and have the goal of a long career over a risky career."
   ]
  }
 ],
 "metadata": {
  "interpreter": {
   "hash": "13eb0af71620a846e484681143862ad0a4deab6cadfc353264e5c14897c11035"
  },
  "kernelspec": {
   "display_name": "Python 3.9.9 64-bit",
   "language": "python",
   "name": "python3"
  },
  "language_info": {
   "codemirror_mode": {
    "name": "ipython",
    "version": 3
   },
   "file_extension": ".py",
   "mimetype": "text/x-python",
   "name": "python",
   "nbconvert_exporter": "python",
   "pygments_lexer": "ipython3",
   "version": "3.9.9"
  },
  "orig_nbformat": 4
 },
 "nbformat": 4,
 "nbformat_minor": 2
}
