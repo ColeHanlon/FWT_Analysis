{
 "cells": [
  {
   "cell_type": "markdown",
   "metadata": {},
   "source": [
    "#A Statistical Approach to Skiing\n",
    "###Cole Hanlon, 2021\n",
    "***\n",
    "<div style=\"text-align:center\">\n",
    "    <img src=\"images/FWT_logoresize.jpg\" />\n",
    "</div>\n",
    "***\n",
    "\n",
    "The Freeride World Tour (FWT) is a series of skiing events that take place in locations around the world during the winter season. Athletes competing are from all around the world. During each event a unique mountain face is selected, which is not part of a defined ski area. Each event includes both men and womens, who ski and snowboard. However, to reduce complexity we will focus on men's skiing. The terrain is often untracked and athletes must study the terrain features to put together a 'line'. A 'line' consists of skiing open faces, jumping off features, dropping cliffs, and skiing technical terrain. "
   ]
  },
  {
   "cell_type": "markdown",
   "metadata": {},
   "source": [
    "First we must import all needed libraries for this analysis."
   ]
  },
  {
   "cell_type": "code",
   "execution_count": 659,
   "metadata": {},
   "outputs": [],
   "source": [
    "import numpy as np\n",
    "import pandas as pd\n",
    "import matplotlib.pyplot as plt\n",
    "from scipy.interpolate import interp1d\n"
   ]
  },
  {
   "cell_type": "markdown",
   "metadata": {},
   "source": [
    "Read in our data and remove extra columns."
   ]
  },
  {
   "cell_type": "code",
   "execution_count": 660,
   "metadata": {},
   "outputs": [
    {
     "data": {
      "text/html": [
       "<div>\n",
       "<style scoped>\n",
       "    .dataframe tbody tr th:only-of-type {\n",
       "        vertical-align: middle;\n",
       "    }\n",
       "\n",
       "    .dataframe tbody tr th {\n",
       "        vertical-align: top;\n",
       "    }\n",
       "\n",
       "    .dataframe thead th {\n",
       "        text-align: right;\n",
       "    }\n",
       "</style>\n",
       "<table border=\"1\" class=\"dataframe\">\n",
       "  <thead>\n",
       "    <tr style=\"text-align: right;\">\n",
       "      <th></th>\n",
       "      <th>airs</th>\n",
       "      <th>spins</th>\n",
       "      <th>inverts</th>\n",
       "      <th>crashes</th>\n",
       "      <th>largest_spin</th>\n",
       "      <th>largest_invert</th>\n",
       "      <th>largest_magnitude</th>\n",
       "      <th>largest_landed</th>\n",
       "      <th>score</th>\n",
       "    </tr>\n",
       "    <tr>\n",
       "      <th>skier</th>\n",
       "      <th></th>\n",
       "      <th></th>\n",
       "      <th></th>\n",
       "      <th></th>\n",
       "      <th></th>\n",
       "      <th></th>\n",
       "      <th></th>\n",
       "      <th></th>\n",
       "      <th></th>\n",
       "    </tr>\n",
       "  </thead>\n",
       "  <tbody>\n",
       "    <tr>\n",
       "      <th>Mickael Bimboes</th>\n",
       "      <td>5</td>\n",
       "      <td>0</td>\n",
       "      <td>0</td>\n",
       "      <td>0</td>\n",
       "      <td>0</td>\n",
       "      <td>0</td>\n",
       "      <td>3</td>\n",
       "      <td>1</td>\n",
       "      <td>70.00</td>\n",
       "    </tr>\n",
       "    <tr>\n",
       "      <th>Drew Tabke</th>\n",
       "      <td>6</td>\n",
       "      <td>0</td>\n",
       "      <td>0</td>\n",
       "      <td>0</td>\n",
       "      <td>0</td>\n",
       "      <td>0</td>\n",
       "      <td>4</td>\n",
       "      <td>1</td>\n",
       "      <td>75.00</td>\n",
       "    </tr>\n",
       "    <tr>\n",
       "      <th>Andrew Pollard</th>\n",
       "      <td>5</td>\n",
       "      <td>0</td>\n",
       "      <td>0</td>\n",
       "      <td>1</td>\n",
       "      <td>0</td>\n",
       "      <td>0</td>\n",
       "      <td>2</td>\n",
       "      <td>0</td>\n",
       "      <td>42.00</td>\n",
       "    </tr>\n",
       "    <tr>\n",
       "      <th>Carl Eriksson</th>\n",
       "      <td>5</td>\n",
       "      <td>0</td>\n",
       "      <td>1</td>\n",
       "      <td>0</td>\n",
       "      <td>0</td>\n",
       "      <td>1</td>\n",
       "      <td>2</td>\n",
       "      <td>1</td>\n",
       "      <td>61.67</td>\n",
       "    </tr>\n",
       "    <tr>\n",
       "      <th>Yu Sasaki</th>\n",
       "      <td>4</td>\n",
       "      <td>1</td>\n",
       "      <td>0</td>\n",
       "      <td>0</td>\n",
       "      <td>1</td>\n",
       "      <td>0</td>\n",
       "      <td>4</td>\n",
       "      <td>1</td>\n",
       "      <td>78.33</td>\n",
       "    </tr>\n",
       "    <tr>\n",
       "      <th>Liam Peiffer</th>\n",
       "      <td>2</td>\n",
       "      <td>0</td>\n",
       "      <td>0</td>\n",
       "      <td>0</td>\n",
       "      <td>0</td>\n",
       "      <td>0</td>\n",
       "      <td>4</td>\n",
       "      <td>1</td>\n",
       "      <td>65.33</td>\n",
       "    </tr>\n",
       "    <tr>\n",
       "      <th>Yann Baudron</th>\n",
       "      <td>5</td>\n",
       "      <td>1</td>\n",
       "      <td>0</td>\n",
       "      <td>1</td>\n",
       "      <td>0</td>\n",
       "      <td>0</td>\n",
       "      <td>3</td>\n",
       "      <td>1</td>\n",
       "      <td>28.67</td>\n",
       "    </tr>\n",
       "    <tr>\n",
       "      <th>Reine Barkered</th>\n",
       "      <td>5</td>\n",
       "      <td>0</td>\n",
       "      <td>1</td>\n",
       "      <td>0</td>\n",
       "      <td>0</td>\n",
       "      <td>1</td>\n",
       "      <td>4</td>\n",
       "      <td>1</td>\n",
       "      <td>76.67</td>\n",
       "    </tr>\n",
       "    <tr>\n",
       "      <th>Markus Eder</th>\n",
       "      <td>7</td>\n",
       "      <td>2</td>\n",
       "      <td>1</td>\n",
       "      <td>0</td>\n",
       "      <td>1</td>\n",
       "      <td>1</td>\n",
       "      <td>4</td>\n",
       "      <td>1</td>\n",
       "      <td>86.67</td>\n",
       "    </tr>\n",
       "    <tr>\n",
       "      <th>Fabio Studer</th>\n",
       "      <td>4</td>\n",
       "      <td>1</td>\n",
       "      <td>1</td>\n",
       "      <td>2</td>\n",
       "      <td>1</td>\n",
       "      <td>1</td>\n",
       "      <td>3</td>\n",
       "      <td>0</td>\n",
       "      <td>5.00</td>\n",
       "    </tr>\n",
       "    <tr>\n",
       "      <th>Tanner Hall</th>\n",
       "      <td>6</td>\n",
       "      <td>2</td>\n",
       "      <td>1</td>\n",
       "      <td>0</td>\n",
       "      <td>1</td>\n",
       "      <td>0</td>\n",
       "      <td>4</td>\n",
       "      <td>1</td>\n",
       "      <td>81.00</td>\n",
       "    </tr>\n",
       "    <tr>\n",
       "      <th>Taisuke Kusunoki</th>\n",
       "      <td>3</td>\n",
       "      <td>0</td>\n",
       "      <td>0</td>\n",
       "      <td>1</td>\n",
       "      <td>0</td>\n",
       "      <td>0</td>\n",
       "      <td>2</td>\n",
       "      <td>0</td>\n",
       "      <td>10.00</td>\n",
       "    </tr>\n",
       "    <tr>\n",
       "      <th>Yann Rausis</th>\n",
       "      <td>4</td>\n",
       "      <td>1</td>\n",
       "      <td>0</td>\n",
       "      <td>0</td>\n",
       "      <td>0</td>\n",
       "      <td>0</td>\n",
       "      <td>4</td>\n",
       "      <td>1</td>\n",
       "      <td>70.67</td>\n",
       "    </tr>\n",
       "    <tr>\n",
       "      <th>Berkeley Patterson</th>\n",
       "      <td>4</td>\n",
       "      <td>1</td>\n",
       "      <td>1</td>\n",
       "      <td>0</td>\n",
       "      <td>1</td>\n",
       "      <td>1</td>\n",
       "      <td>3</td>\n",
       "      <td>1</td>\n",
       "      <td>67.00</td>\n",
       "    </tr>\n",
       "    <tr>\n",
       "      <th>Aymar Navarro</th>\n",
       "      <td>4</td>\n",
       "      <td>0</td>\n",
       "      <td>0</td>\n",
       "      <td>0</td>\n",
       "      <td>0</td>\n",
       "      <td>0</td>\n",
       "      <td>5</td>\n",
       "      <td>1</td>\n",
       "      <td>73.00</td>\n",
       "    </tr>\n",
       "    <tr>\n",
       "      <th>Kye Petersen</th>\n",
       "      <td>5</td>\n",
       "      <td>2</td>\n",
       "      <td>1</td>\n",
       "      <td>1</td>\n",
       "      <td>2</td>\n",
       "      <td>1</td>\n",
       "      <td>3</td>\n",
       "      <td>1</td>\n",
       "      <td>67.33</td>\n",
       "    </tr>\n",
       "    <tr>\n",
       "      <th>Kristofer Turdell</th>\n",
       "      <td>5</td>\n",
       "      <td>0</td>\n",
       "      <td>1</td>\n",
       "      <td>0</td>\n",
       "      <td>0</td>\n",
       "      <td>1</td>\n",
       "      <td>3</td>\n",
       "      <td>1</td>\n",
       "      <td>75.67</td>\n",
       "    </tr>\n",
       "    <tr>\n",
       "      <th>Craig Murray</th>\n",
       "      <td>3</td>\n",
       "      <td>2</td>\n",
       "      <td>0</td>\n",
       "      <td>0</td>\n",
       "      <td>2</td>\n",
       "      <td>0</td>\n",
       "      <td>4</td>\n",
       "      <td>1</td>\n",
       "      <td>77.33</td>\n",
       "    </tr>\n",
       "    <tr>\n",
       "      <th>Tom Peiffer</th>\n",
       "      <td>5</td>\n",
       "      <td>1</td>\n",
       "      <td>0</td>\n",
       "      <td>0</td>\n",
       "      <td>1</td>\n",
       "      <td>0</td>\n",
       "      <td>4</td>\n",
       "      <td>1</td>\n",
       "      <td>79.67</td>\n",
       "    </tr>\n",
       "    <tr>\n",
       "      <th>Grifen Moller</th>\n",
       "      <td>3</td>\n",
       "      <td>0</td>\n",
       "      <td>1</td>\n",
       "      <td>2</td>\n",
       "      <td>0</td>\n",
       "      <td>1</td>\n",
       "      <td>5</td>\n",
       "      <td>0</td>\n",
       "      <td>7.67</td>\n",
       "    </tr>\n",
       "    <tr>\n",
       "      <th>Wadeck Gorak</th>\n",
       "      <td>0</td>\n",
       "      <td>0</td>\n",
       "      <td>0</td>\n",
       "      <td>0</td>\n",
       "      <td>0</td>\n",
       "      <td>0</td>\n",
       "      <td>0</td>\n",
       "      <td>0</td>\n",
       "      <td>0.00</td>\n",
       "    </tr>\n",
       "    <tr>\n",
       "      <th>Leo Slemett</th>\n",
       "      <td>0</td>\n",
       "      <td>0</td>\n",
       "      <td>0</td>\n",
       "      <td>0</td>\n",
       "      <td>0</td>\n",
       "      <td>0</td>\n",
       "      <td>0</td>\n",
       "      <td>0</td>\n",
       "      <td>0.00</td>\n",
       "    </tr>\n",
       "  </tbody>\n",
       "</table>\n",
       "</div>"
      ],
      "text/plain": [
       "                    airs  spins  inverts  crashes  largest_spin  \\\n",
       "skier                                                             \n",
       "Mickael Bimboes        5      0        0        0             0   \n",
       "Drew Tabke             6      0        0        0             0   \n",
       "Andrew Pollard         5      0        0        1             0   \n",
       "Carl Eriksson          5      0        1        0             0   \n",
       "Yu Sasaki              4      1        0        0             1   \n",
       "Liam Peiffer           2      0        0        0             0   \n",
       "Yann Baudron           5      1        0        1             0   \n",
       "Reine Barkered         5      0        1        0             0   \n",
       "Markus Eder            7      2        1        0             1   \n",
       "Fabio Studer           4      1        1        2             1   \n",
       "Tanner Hall            6      2        1        0             1   \n",
       "Taisuke Kusunoki       3      0        0        1             0   \n",
       "Yann Rausis            4      1        0        0             0   \n",
       "Berkeley Patterson     4      1        1        0             1   \n",
       "Aymar Navarro          4      0        0        0             0   \n",
       "Kye Petersen           5      2        1        1             2   \n",
       "Kristofer Turdell      5      0        1        0             0   \n",
       "Craig Murray           3      2        0        0             2   \n",
       "Tom Peiffer            5      1        0        0             1   \n",
       "Grifen Moller          3      0        1        2             0   \n",
       "Wadeck Gorak           0      0        0        0             0   \n",
       "Leo Slemett            0      0        0        0             0   \n",
       "\n",
       "                    largest_invert  largest_magnitude  largest_landed  score  \n",
       "skier                                                                         \n",
       "Mickael Bimboes                  0                  3               1  70.00  \n",
       "Drew Tabke                       0                  4               1  75.00  \n",
       "Andrew Pollard                   0                  2               0  42.00  \n",
       "Carl Eriksson                    1                  2               1  61.67  \n",
       "Yu Sasaki                        0                  4               1  78.33  \n",
       "Liam Peiffer                     0                  4               1  65.33  \n",
       "Yann Baudron                     0                  3               1  28.67  \n",
       "Reine Barkered                   1                  4               1  76.67  \n",
       "Markus Eder                      1                  4               1  86.67  \n",
       "Fabio Studer                     1                  3               0   5.00  \n",
       "Tanner Hall                      0                  4               1  81.00  \n",
       "Taisuke Kusunoki                 0                  2               0  10.00  \n",
       "Yann Rausis                      0                  4               1  70.67  \n",
       "Berkeley Patterson               1                  3               1  67.00  \n",
       "Aymar Navarro                    0                  5               1  73.00  \n",
       "Kye Petersen                     1                  3               1  67.33  \n",
       "Kristofer Turdell                1                  3               1  75.67  \n",
       "Craig Murray                     0                  4               1  77.33  \n",
       "Tom Peiffer                      0                  4               1  79.67  \n",
       "Grifen Moller                    1                  5               0   7.67  \n",
       "Wadeck Gorak                     0                  0               0   0.00  \n",
       "Leo Slemett                      0                  0               0   0.00  "
      ]
     },
     "execution_count": 660,
     "metadata": {},
     "output_type": "execute_result"
    }
   ],
   "source": [
    "df =  pd.read_csv('FWT_Data.csv')\n",
    "df.drop('Unnamed: 10', axis=1, inplace=True)\n",
    "df.drop('Unnamed: 11', axis=1, inplace=True)\n",
    "df = df.set_index(\"skier\")\n",
    "df"
   ]
  },
  {
   "cell_type": "markdown",
   "metadata": {},
   "source": [
    "##A Look at the Data:\n",
    "As seen in the data frame, we have many different data features. These features includes, *skier, airs, spins, inverts, crashes, largest_spin, largest_invert, largest_magnitude, largest_landed,* and *score*. \n",
    "\n",
    "The meaning of each is explained below,\n",
    "\n",
    "* Skier: This includes the name of the skier, to which the following columns and data belong\n",
    "* Airs: Total number of times a skier jumps off something during the event\n",
    "* Spins: Total number of times a skier performs a 360 degree spin while in the air\n",
    "* Inverts: Total number of times a skier flips, either back or forward while in the air\n",
    "* Crashes: Total number of times a skier crashes in the event\n",
    "* Largest_Spin: Total number of spins in the skier's largest trick in the event\n",
    "* Largest_Invert: Total number of flips in the skier's largest trick in the event\n",
    "* Largest_Magnitude: A value in the range of 1-5, describing the distance travelled in air of the skier's largest trick\n",
    "* Largest_Landed: True or false value determing if the skier landed their largest trick, 1=landed and 0=crashed\n",
    "* Score:The final score the skier received from the judges\n",
    "\n",
    "Unfortunately skiing does not have defined stats, unlike major sports such as basketball and baseball. These data features were selected based on judging criteria, as the analysis has a goal of determining if judging is unbiased and if there is a statistical approach to skiing. The decision behind collecting these data features, and scoring outline will be discussed in the next section. Looking back at our data, it is very clean, as this data is not made available by the FWT. The data was collected manually, by watching an event and recording data into Excel, then exporting into a CSV file, which is available. The event picked was in Hakuba, Japan in 2019. This was selected as it is the video/livestream replay that has the most views on the FWT YouTube channel, signalling that it was perhaps their most popular event to take place. This video can be found here; [LIVE WEBCAST Replay - Freeride World Tour Hakuba Japan 2019](https://www.youtube.com/watch?v=aXQnYTHspiE). It would only make an alaysis stronger to have record more events. However, it is very time consuming to watch an event. This results in a small dataset for this event and analysis. The only issue in this data is that two skier's were unable to participate and they must be removed from the dataset."
   ]
  },
  {
   "cell_type": "markdown",
   "metadata": {},
   "source": [
    "We must remove the two who did not participate, Wadeck Gorak and Leo Slemett."
   ]
  },
  {
   "cell_type": "code",
   "execution_count": 661,
   "metadata": {},
   "outputs": [],
   "source": [
    "df.drop(\"Wadeck Gorak\", inplace=True)\n",
    "df.drop(\"Leo Slemett\", inplace=True)"
   ]
  },
  {
   "cell_type": "markdown",
   "metadata": {},
   "source": [
    "##Judging and Scoring\n",
    "\n",
    "When speaking to others, and observing FWT events it seems that judging and scoring is somewhat biased. It seems that well known skier's have an automatic higher score. This is something that is important to evaluate. The FWT has a [Judging Handbook](https://www.freerideworldtour.com/sites/default/files/2021_judging_handbook.pdf). Reading through this handbook confirms that there are 5 categories judges focus on when it comes to scoring. These categories are all supposed to equally impact a skier's score. The 5 categories are, *Line, Fluidity, Control, Air & Style,* and *Technique*. Judges seem to have a baseline score, then deduct and add points from performance in each of these categories. After each run, the FWT shows a graphic which shows judges thoughts on these five categories.\n",
    "\n",
    "<div style=\"text-align:center\">\n",
    "    <img src=\"images/FWT_criteriaresize.jpg\" />\n",
    "</div>\n",
    "\n",
    "As seen above, this skier should have points added to the baseline score for line and many points deducted from all other categories. The data features chose can all be used to evaluate each of these categories."
   ]
  },
  {
   "cell_type": "markdown",
   "metadata": {},
   "source": [
    "#Baseline Score\n",
    "\n",
    "We should first determine what a baseline score would be. We should first calculate an average of scores."
   ]
  },
  {
   "cell_type": "code",
   "execution_count": 662,
   "metadata": {},
   "outputs": [
    {
     "data": {
      "text/plain": [
       "59.934000000000005"
      ]
     },
     "execution_count": 662,
     "metadata": {},
     "output_type": "execute_result"
    }
   ],
   "source": [
    "avg_score = df['score'].mean()\n",
    "avg_score"
   ]
  },
  {
   "cell_type": "markdown",
   "metadata": {},
   "source": [
    "Knowing that crashes will most likely result in a deduction of points, and spins/inverts will result in additional scores. We should evaluate where no spins, inverts, or crashes take place."
   ]
  },
  {
   "cell_type": "code",
   "execution_count": 663,
   "metadata": {},
   "outputs": [
    {
     "data": {
      "text/html": [
       "<div>\n",
       "<style scoped>\n",
       "    .dataframe tbody tr th:only-of-type {\n",
       "        vertical-align: middle;\n",
       "    }\n",
       "\n",
       "    .dataframe tbody tr th {\n",
       "        vertical-align: top;\n",
       "    }\n",
       "\n",
       "    .dataframe thead th {\n",
       "        text-align: right;\n",
       "    }\n",
       "</style>\n",
       "<table border=\"1\" class=\"dataframe\">\n",
       "  <thead>\n",
       "    <tr style=\"text-align: right;\">\n",
       "      <th></th>\n",
       "      <th>airs</th>\n",
       "      <th>spins</th>\n",
       "      <th>inverts</th>\n",
       "      <th>crashes</th>\n",
       "      <th>largest_spin</th>\n",
       "      <th>largest_invert</th>\n",
       "      <th>largest_magnitude</th>\n",
       "      <th>largest_landed</th>\n",
       "      <th>score</th>\n",
       "    </tr>\n",
       "    <tr>\n",
       "      <th>skier</th>\n",
       "      <th></th>\n",
       "      <th></th>\n",
       "      <th></th>\n",
       "      <th></th>\n",
       "      <th></th>\n",
       "      <th></th>\n",
       "      <th></th>\n",
       "      <th></th>\n",
       "      <th></th>\n",
       "    </tr>\n",
       "  </thead>\n",
       "  <tbody>\n",
       "    <tr>\n",
       "      <th>Mickael Bimboes</th>\n",
       "      <td>5</td>\n",
       "      <td>0</td>\n",
       "      <td>0</td>\n",
       "      <td>0</td>\n",
       "      <td>0</td>\n",
       "      <td>0</td>\n",
       "      <td>3</td>\n",
       "      <td>1</td>\n",
       "      <td>70.00</td>\n",
       "    </tr>\n",
       "    <tr>\n",
       "      <th>Drew Tabke</th>\n",
       "      <td>6</td>\n",
       "      <td>0</td>\n",
       "      <td>0</td>\n",
       "      <td>0</td>\n",
       "      <td>0</td>\n",
       "      <td>0</td>\n",
       "      <td>4</td>\n",
       "      <td>1</td>\n",
       "      <td>75.00</td>\n",
       "    </tr>\n",
       "    <tr>\n",
       "      <th>Liam Peiffer</th>\n",
       "      <td>2</td>\n",
       "      <td>0</td>\n",
       "      <td>0</td>\n",
       "      <td>0</td>\n",
       "      <td>0</td>\n",
       "      <td>0</td>\n",
       "      <td>4</td>\n",
       "      <td>1</td>\n",
       "      <td>65.33</td>\n",
       "    </tr>\n",
       "    <tr>\n",
       "      <th>Aymar Navarro</th>\n",
       "      <td>4</td>\n",
       "      <td>0</td>\n",
       "      <td>0</td>\n",
       "      <td>0</td>\n",
       "      <td>0</td>\n",
       "      <td>0</td>\n",
       "      <td>5</td>\n",
       "      <td>1</td>\n",
       "      <td>73.00</td>\n",
       "    </tr>\n",
       "  </tbody>\n",
       "</table>\n",
       "</div>"
      ],
      "text/plain": [
       "                 airs  spins  inverts  crashes  largest_spin  largest_invert  \\\n",
       "skier                                                                          \n",
       "Mickael Bimboes     5      0        0        0             0               0   \n",
       "Drew Tabke          6      0        0        0             0               0   \n",
       "Liam Peiffer        2      0        0        0             0               0   \n",
       "Aymar Navarro       4      0        0        0             0               0   \n",
       "\n",
       "                 largest_magnitude  largest_landed  score  \n",
       "skier                                                      \n",
       "Mickael Bimboes                  3               1  70.00  \n",
       "Drew Tabke                       4               1  75.00  \n",
       "Liam Peiffer                     4               1  65.33  \n",
       "Aymar Navarro                    5               1  73.00  "
      ]
     },
     "execution_count": 663,
     "metadata": {},
     "output_type": "execute_result"
    }
   ],
   "source": [
    "straight_airs_df = pd.read_csv('FWT_Data.csv')\n",
    "straight_airs_df.drop('Unnamed: 10', axis=1, inplace=True)\n",
    "straight_airs_df.drop('Unnamed: 11', axis=1, inplace=True)\n",
    "straight_airs_df = straight_airs_df.set_index(\"skier\")\n",
    "straight_airs_df.drop(\"Wadeck Gorak\", inplace=True)\n",
    "straight_airs_df.drop(\"Leo Slemett\", inplace=True)\n",
    "\n",
    "straight_airs_df.drop(straight_airs_df[straight_airs_df['spins'] > 0].index, inplace=True) #Remove spins\n",
    "straight_airs_df.drop(straight_airs_df[straight_airs_df['inverts'] > 0].index, inplace=True) #Remove inverts\n",
    "straight_airs_df.drop(straight_airs_df[straight_airs_df['crashes'] > 0].index, inplace=True) #Remove crashes\n",
    "\n",
    "straight_airs_df"
   ]
  },
  {
   "cell_type": "markdown",
   "metadata": {},
   "source": [
    "From just a simple glance of this new data frame, we can see that all scores are actually very similary. The scores are in a much tighter range than the whole event. \n",
    "\n",
    "With a minimum score of,\n"
   ]
  },
  {
   "cell_type": "code",
   "execution_count": 664,
   "metadata": {},
   "outputs": [
    {
     "data": {
      "text/plain": [
       "65.33"
      ]
     },
     "execution_count": 664,
     "metadata": {},
     "output_type": "execute_result"
    }
   ],
   "source": [
    "straight_airs_df['score'].min()"
   ]
  },
  {
   "cell_type": "markdown",
   "metadata": {},
   "source": [
    "A maximum score of,\n"
   ]
  },
  {
   "cell_type": "code",
   "execution_count": 665,
   "metadata": {},
   "outputs": [
    {
     "data": {
      "text/plain": [
       "75.0"
      ]
     },
     "execution_count": 665,
     "metadata": {},
     "output_type": "execute_result"
    }
   ],
   "source": [
    "straight_airs_df['score'].max()"
   ]
  },
  {
   "cell_type": "markdown",
   "metadata": {},
   "source": [
    "This difference is relatively small, however, it seems it can be explained by the lack of airs resulting in the minimum score."
   ]
  },
  {
   "cell_type": "code",
   "execution_count": 666,
   "metadata": {},
   "outputs": [
    {
     "data": {
      "image/png": "[encoded data removed]",
      "text/plain": [
       "<Figure size 432x288 with 1 Axes>"
      ]
     },
     "metadata": {
      "needs_background": "light"
     },
     "output_type": "display_data"
    }
   ],
   "source": [
    "straight_airs_df.sort_values(by=['airs'], inplace=True)\n",
    "\n",
    "plt.bar(straight_airs_df['airs'], straight_airs_df['score'])\n",
    "plt.plot(straight_airs_df['airs'], straight_airs_df['score'], '-o', color='red')\n",
    "plt.show()"
   ]
  },
  {
   "cell_type": "markdown",
   "metadata": {},
   "source": [
    "We see above that the number o airs does play an impact in increasing score when no spins, inverts or crashes occur. The data we have is so small, that we see a dip where the number of airs is equal to 5. This is due to just having a single skier, and a single run for each of these data points. This could mean Mickael Bimboes, who did 5 airs, still had some other impacts in his run that reduced his score, but were not recorded in the data set. This is why a larger data set would be more beneficial. We should now figure out what the average score is for an average number of airs, with no other scoring impacts (no spins, inverts, or crashes)."
   ]
  },
  {
   "cell_type": "code",
   "execution_count": 667,
   "metadata": {},
   "outputs": [
    {
     "name": "stdout",
     "output_type": "stream",
     "text": [
      "Baseline Airs:  4.25\n",
      "Baseline Score:  70.8325\n"
     ]
    }
   ],
   "source": [
    "baseline_airs = straight_airs_df['airs'].mean()\n",
    "baseline_score = straight_airs_df['score'].mean()\n",
    "\n",
    "print(\"Baseline Airs: \", baseline_airs)\n",
    "print(\"Baseline Score: \", baseline_score)"
   ]
  },
  {
   "cell_type": "markdown",
   "metadata": {},
   "source": [
    "We can now start working off a baseline score of 70.8325 points when a run has about 4 airs, and no spins, inverts, or crashes. This is further backed up as the scores of Aymar Navarro and Mickael Bimboes are very similar, with 4 and 5 airs respectively. The score of Aymar Navarro is above this baseline with only 4 airs is evidenced by his above average magnitude on his largest air. Whereas, Mickael Bimboes had an average magnitude, with slighlty more airs than average, and resulted in a lower score."
   ]
  },
  {
   "cell_type": "markdown",
   "metadata": {},
   "source": [
    "#Line\n",
    "\n",
    "A 'line' as explained before is a skier's path down the mountain face. A skier will have to choose a 'line' that has multiple features in order to do airs, spins, and inverts. Therefore, we can evaluate a skier's line through their total number of airs, and their largest_magnitude. As we will be able to see how risky their 'line' selection is, and how exciting it is. Again, we will not want to evaluate any crashes. Inverts and spins should also not have an impact.\n",
    "\n",
    "Working from a baseline of ~70 points for an average run of 4.25 airs, we should divide this value by the 5 categories, to understand the baseline points of each category."
   ]
  },
  {
   "cell_type": "code",
   "execution_count": 668,
   "metadata": {},
   "outputs": [
    {
     "data": {
      "text/plain": [
       "14.1665"
      ]
     },
     "execution_count": 668,
     "metadata": {},
     "output_type": "execute_result"
    }
   ],
   "source": [
    "category_baseline = baseline_score / 5\n",
    "category_baseline"
   ]
  },
  {
   "cell_type": "markdown",
   "metadata": {},
   "source": [
    "We can now work based on expected values for a scoring system, where we multiply the category baseline to a calculated weight based on performance in the category. The weight can be both positive and negative, to add and subtract points, however, can only add a maximum of 6 points, to reach the maximum score of 100. This weighting will take into account probability inderctly, through a negative value when crashes occur.\n",
    "\n",
    "An equation will be defined as,\n",
    "\n",
    "\\begin{gather*}\n",
    "E[x]=14W_1[x]+14W_2[x]+...+14W_5[x]\n",
    "\\end{gather*}\n",
    "\n",
    "Each W value can be calculated through the appropriate data features, and will have an impact."
   ]
  },
  {
   "cell_type": "code",
   "execution_count": 669,
   "metadata": {},
   "outputs": [
    {
     "name": "stdout",
     "output_type": "stream",
     "text": [
      "83.18103585657367\n"
     ]
    },
    {
     "data": {
      "image/png": "[encoded data removed]",
      "text/plain": [
       "<Figure size 432x288 with 1 Axes>"
      ]
     },
     "metadata": {
      "needs_background": "light"
     },
     "output_type": "display_data"
    }
   ],
   "source": [
    "no_crash_df = pd.read_csv('FWT_Data.csv')\n",
    "no_crash_df.drop('Unnamed: 10', axis=1, inplace=True)\n",
    "no_crash_df.drop('Unnamed: 11', axis=1, inplace=True)\n",
    "no_crash_df = no_crash_df.set_index(\"skier\")\n",
    "no_crash_df.drop(\"Wadeck Gorak\", inplace=True)\n",
    "no_crash_df.drop(\"Leo Slemett\", inplace=True)\n",
    "\n",
    "no_crash_df.drop(no_crash_df[no_crash_df['crashes'] > 0].index, inplace=True) #Remove crashes\n",
    "\n",
    "no_crash_df['total'] = no_crash_df[list(no_crash_df.columns)].sum(axis=1) - no_crash_df['score']\n",
    "\n",
    "no_crash_df = no_crash_df.sort_values('score').drop_duplicates('total', keep='last')\n",
    "\n",
    "x = no_crash_df['total'].to_numpy()\n",
    "y = no_crash_df['score'].to_numpy()\n",
    " \n",
    "cubic_interploation_model = interp1d(x, y, kind = \"cubic\")\n",
    " \n",
    "X_= np.linspace(x.min(), x.max(), 500)\n",
    "Y_ = cubic_interploation_model(X_)\n",
    "\n",
    "coef = np.polyfit(x,y,1)\n",
    "poly1d_fn = np.poly1d(coef) \n",
    "\n",
    "plt.plot(x,y, 'yo', x, poly1d_fn(x), '--k')\n",
    "\n",
    "plt.plot(X_, Y_)\n",
    "plt.show()"
   ]
  }
 ],
 "metadata": {
  "interpreter": {
   "hash": "13eb0af71620a846e484681143862ad0a4deab6cadfc353264e5c14897c11035"
  },
  "kernelspec": {
   "display_name": "Python 3.9.9 64-bit",
   "language": "python",
   "name": "python3"
  },
  "language_info": {
   "codemirror_mode": {
    "name": "ipython",
    "version": 3
   },
   "file_extension": ".py",
   "mimetype": "text/x-python",
   "name": "python",
   "nbconvert_exporter": "python",
   "pygments_lexer": "ipython3",
   "version": "3.9.9"
  },
  "orig_nbformat": 4
 },
 "nbformat": 4,
 "nbformat_minor": 2
}
